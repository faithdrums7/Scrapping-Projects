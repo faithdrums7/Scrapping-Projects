{
 "cells": [
  {
   "cell_type": "code",
   "execution_count": 45,
   "metadata": {},
   "outputs": [
    {
     "name": "stdout",
     "output_type": "stream",
     "text": [
      "Masukkan Nama kota : indonesia\n",
      "{'coord': {'lon': 120, 'lat': -5}, 'weather': [{'id': 801, 'main': 'Clouds', 'description': 'few clouds', 'icon': '02n'}], 'base': 'stations', 'main': {'temp': 301.15, 'feels_like': 304.26, 'temp_min': 301.15, 'temp_max': 301.15, 'pressure': 1009, 'humidity': 69}, 'visibility': 8000, 'wind': {'speed': 2.1, 'deg': 40}, 'clouds': {'all': 20}, 'dt': 1599910831, 'sys': {'type': 1, 'id': 9325, 'country': 'ID', 'sunrise': 1599861273, 'sunset': 1599904700}, 'timezone': 28800, 'id': 1643084, 'name': 'Indonesia', 'cod': 200}\n",
      "Clouds\n",
      "{'lon': 120, 'lat': -5}\n",
      "[{'id': 801, 'main': 'Clouds', 'description': 'few clouds', 'icon': '02n'}]\n",
      "stations\n",
      "{'temp': 301.15, 'feels_like': 304.26, 'temp_min': 301.15, 'temp_max': 301.15, 'pressure': 1009, 'humidity': 69}\n",
      "8000\n",
      "{'speed': 2.1, 'deg': 40}\n",
      "{'all': 20}\n",
      "1599910831\n",
      "{'type': 1, 'id': 9325, 'country': 'ID', 'sunrise': 1599861273, 'sunset': 1599904700}\n",
      "28800\n",
      "1643084\n",
      "Indonesia\n",
      "200\n"
     ]
    }
   ],
   "source": [
    "#Latihan pertamanya\n",
    "\n",
    "import requests\n",
    "\n",
    "# https://openweathermap.org/current ==> API\n",
    "\n",
    "key = '5d8d498b13b44f88860aac814925d1a8'\n",
    "\n",
    "host = 'api.openweathermap.org'\n",
    "\n",
    "city_name = input(\"Masukkan Nama kota : \")\n",
    "\n",
    "# url = 'api.openweathermap.org/data/2.5/weather?q={city name}&appid={your api key}'\n",
    "\n",
    "url = f\"http://{host}/data/2.5/weather?q={city_name}&appid={key}\"\n",
    "\n",
    "data = requests.get(url)\n",
    "\n",
    "cuaca = data.json()\n",
    "\n",
    "print(cuaca)\n",
    "print(cuaca['weather'][0]['main'])\n",
    "for i in cuaca:\n",
    "    print(cuaca[i])"
   ]
  },
  {
   "cell_type": "code",
   "execution_count": 1,
   "metadata": {},
   "outputs": [
    {
     "name": "stdout",
     "output_type": "stream",
     "text": [
      "Masukkan Nama Kota: bandung\n",
      "Kota yang Anda pilih: Bandung , ID\n",
      "Suhu: 22.55000000000001 (Celcius)\n",
      "Keadaan cuaca:  Clouds\n",
      "Koordinat kota anda: -6.9 (lat) - 107.62 (lon)\n",
      "Humidity level:  78 (%)\n",
      "Kecepatan angin:  0.4 (m/s)\n"
     ]
    }
   ],
   "source": [
    "##### Latihan Aplikasi Ramalan Cuaca\n",
    "# Prakiraan Cuaca \n",
    "# input : Masukkan Nama Kota : \n",
    "# Output nya :\n",
    "\n",
    "# Kota Yang Anda Pilih : .... \n",
    "# Suhu : .... (Celcius)\n",
    "# Keadaan cuaca :  'Berawan'\n",
    "# Koordinat Kota Anda : lat - long \n",
    "# Humidity Level : ...\n",
    "# Kecepatan Angin : ....\n",
    "\n",
    "# Kalau kota tidak ada :\n",
    "# Keluar Notif : Kota Yang Anda masukkan tidak terdaftar\n",
    "### Gunakan API openweather\n",
    "\n",
    "\n",
    "import requests\n",
    "\n",
    "key = '5d8d498b13b44f88860aac814925d1a8'\n",
    "\n",
    "host = 'api.openweathermap.org' \n",
    "\n",
    "def get_city():\n",
    "    '''\n",
    "    \n",
    "    '''\n",
    "    city_name = input(\"Masukkan Nama Kota: \")\n",
    "    url = url = f\"http://{host}/data/2.5/weather?q={city_name}&appid={key}\"\n",
    "    data = requests.get(url)\n",
    "    cuaca = data.json()\n",
    "    if cuaca['cod'] == '404':\n",
    "        print(\"Kota yang anda masukkan tidak terdaftar! coba masukkan kembali\")\n",
    "        get_city()\n",
    "    else:\n",
    "        return cuaca\n",
    "        \n",
    "def print_weather_report(cuaca):\n",
    "    '''\n",
    "    '''\n",
    "    suhu = cuaca['main']['temp'] - 273.15 \n",
    "    print(\"Kota yang Anda pilih:\", cuaca['name'], \",\", cuaca['sys']['country'])\n",
    "    print(\"Suhu:\", suhu, \"(Celcius)\")\n",
    "    print(\"Keadaan cuaca: \", cuaca['weather'][0]['main']) \n",
    "    print(\"Koordinat kota anda:\", cuaca['coord']['lat'], \"(lat)\", \"-\", cuaca['coord']['lon'], \"(lon)\")\n",
    "    print(\"Humidity level: \", cuaca['main']['humidity'], \"(%)\")\n",
    "    print(\"Kecepatan angin: \", cuaca['wind']['speed'], \"(m/s)\")\n",
    "    \n",
    "cuaca = get_city()\n",
    "\n",
    "print_weather_report(cuaca)"
   ]
  },
  {
   "cell_type": "code",
   "execution_count": null,
   "metadata": {},
   "outputs": [],
   "source": []
  }
 ],
 "metadata": {
  "kernelspec": {
   "display_name": "Python 3",
   "language": "python",
   "name": "python3"
  },
  "language_info": {
   "codemirror_mode": {
    "name": "ipython",
    "version": 3
   },
   "file_extension": ".py",
   "mimetype": "text/x-python",
   "name": "python",
   "nbconvert_exporter": "python",
   "pygments_lexer": "ipython3",
   "version": "3.8.3"
  }
 },
 "nbformat": 4,
 "nbformat_minor": 4
}
