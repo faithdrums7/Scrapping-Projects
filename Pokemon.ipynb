{
 "cells": [
  {
   "cell_type": "code",
   "execution_count": null,
   "metadata": {},
   "outputs": [],
   "source": [
    "# Input : \n",
    "# - Masukkan Nama Pokemon :\n",
    "\n",
    "# Output :\n",
    "# - Nama Pokemon : \n",
    "# - HP : \n",
    "# - Attack :\n",
    "# - Defense :\n",
    "# - Speed : \n",
    "# - Type : ....\n",
    "# - URL : berisi url image foto pokemon \n",
    "# - Ability Name : \n",
    "# 1 .....\n",
    "# 2 .....\n",
    "# 3 ....."
   ]
  },
  {
   "cell_type": "code",
   "execution_count": 43,
   "metadata": {},
   "outputs": [
    {
     "name": "stdout",
     "output_type": "stream",
     "text": [
      "Masukkan nama pokemon: shellder\n",
      "Nama Pokemon: shellder\n",
      "HP: 30\n",
      "Attack: 65\n",
      "Defense: 100\n",
      "Speed: 25\n",
      "Type: water\n",
      "URL: https://archives.bulbagarden.net/wiki/Category:shellder\n",
      "Ability Name: \n",
      "1 shell-armor\n",
      "2 skill-link\n",
      "3 overcoat\n"
     ]
    }
   ],
   "source": [
    "import requests\n",
    "\n",
    "lst_pokemon = []\n",
    "\n",
    "def get_pokemon():\n",
    "    \n",
    "#     url_gen1 = f\"https://pokeapi.co/api/v2/generation/1/\" # TERDAPAT 151 POKEMON PADA GEN 1\n",
    "#     data = requests.get(url_gen1)\n",
    "#     gen1 = data.json()\n",
    "#     for i in range(151):\n",
    "#         lst_pokemon.append(gen1['pokemon_species'][i]['name'])\n",
    "    \n",
    "#     url_gen2 = f\"https://pokeapi.co/api/v2/generation/2/\" # TERDAPAT 100 POKEMON PADA GEN 2\n",
    "#     data = requests.get(url_gen2)\n",
    "#     gen2 = data.json()\n",
    "#     for i in range(100):\n",
    "#         lst_pokemon.append(gen2['pokemon_species'][i]['name'])\n",
    "    \n",
    "#     url_gen3 = f\"https://pokeapi.co/api/v2/generation/3/\" # TERDAPAT 135 POKEMON PADA GEN 3\n",
    "#     data = requests.get(url_gen3)\n",
    "#     gen3 = data.json()\n",
    "#     for i in range(135):\n",
    "#         lst_pokemon.append(gen3['pokemon_species'][i]['name'])\n",
    "    \n",
    "#     url_gen4 = f\"https://pokeapi.co/api/v2/generation/4/\" # TERDAPAT 107 POKEMON PADA GEN 4\n",
    "#     data = requests.get(url_gen4)\n",
    "#     gen4 = data.json()\n",
    "#     for i in range(107):\n",
    "#         lst_pokemon.append(gen4['pokemon_species'][i]['name'])\n",
    "        \n",
    "#     url_gen5 = f\"https://pokeapi.co/api/v2/generation/5/\" #156\n",
    "#     data = requests.get(url_gen5)\n",
    "#     gen5 = data.json()\n",
    "#     for i in range(156):\n",
    "#         lst_pokemon.append(gen5['pokemon_species'][i]['name'])\n",
    "        \n",
    "#     url_gen6 = f\"https://pokeapi.co/api/v2/generation/6/\" #72\n",
    "#     data = requests.get(url_gen6)\n",
    "#     gen6 = data.json()\n",
    "#     for i in range(72):\n",
    "#         lst_pokemon.append(gen6['pokemon_species'][i]['name'])\n",
    "        \n",
    "#     url_gen7 = f\"https://pokeapi.co/api/v2/generation/7/\" #88\n",
    "#     data = requests.get(url_gen7)\n",
    "#     gen7 = data.json()\n",
    "#     for i in range(88):\n",
    "#         lst_pokemon.append(gen7['pokemon_species'][i]['name'])\n",
    "    \n",
    "#     url_gen8 = f\"https://pokeapi.co/api/v2/generation/8/\" # 87\n",
    "#     data = requests.get(url_gen8)\n",
    "#     gen8 = data.json()\n",
    "#     for i in range(84):\n",
    "#         lst_pokemon.append(gen8['pokemon_species'][i]['name'])\n",
    "    \n",
    "    url_all_pokemons = f\"https://pokeapi.co/api/v2/pokemon?limit=893&offset=0\"\n",
    "    data = requests.get(url_all_pokemons)\n",
    "    all_pokemons = data.json()\n",
    "    for i in range(893):\n",
    "        lst_pokemon.append(all_pokemons['results'][i]['name'])\n",
    "    \n",
    "    return lst_pokemon\n",
    "\n",
    "def get_pokemon_stats(lst_pokemon):\n",
    "    poke = input(\"Masukkan nama pokemon: \")\n",
    "    poke = poke.lower()\n",
    "    while not poke in lst_pokemon:\n",
    "        poke = input(\"Pokemon tersebut belom dibikin, coba nama pokemon lain! \")\n",
    "        poke = poke.lower()\n",
    "    \n",
    "    nomor = lst_pokemon.index(poke) + 1\n",
    "    \n",
    "    url_stats = f\"https://pokeapi.co/api/v2/pokemon/{nomor}\"\n",
    "    data = requests.get(url_stats)\n",
    "    all_stats = data.json()\n",
    "    \n",
    "    print(\"Nama Pokemon:\", poke)\n",
    "    print(\"HP:\", all_stats[\"stats\"][0][\"base_stat\"])\n",
    "    print(\"Attack:\", all_stats[\"stats\"][1][\"base_stat\"])\n",
    "    print(\"Defense:\", all_stats[\"stats\"][2][\"base_stat\"])\n",
    "    print(\"Speed:\", all_stats[\"stats\"][4][\"base_stat\"])\n",
    "    print(\"Type:\", all_stats[\"types\"][0][\"type\"][\"name\"])\n",
    "    \n",
    "    print(f\"URL: https://archives.bulbagarden.net/wiki/Category:{poke}\")\n",
    "    print(\"Ability Name: \")\n",
    "    for i in range (len(all_stats['abilities'])):\n",
    "        print(str(i+1), all_stats['abilities'][i]['ability']['name'])\n",
    "\n",
    "lst_pokemon = get_pokemon()\n",
    "# print(len(lst_pokemon))\n",
    "# print(lst_pokemon[0])\n",
    "get_pokemon_stats(lst_pokemon)"
   ]
  },
  {
   "cell_type": "code",
   "execution_count": 22,
   "metadata": {},
   "outputs": [
    {
     "name": "stdout",
     "output_type": "stream",
     "text": [
      "False\n"
     ]
    }
   ],
   "source": [
    "x = [[1, 'bulbasaur']]\n",
    "y = 'bulbasaur' in x\n",
    "print(y)"
   ]
  },
  {
   "cell_type": "code",
   "execution_count": 24,
   "metadata": {},
   "outputs": [
    {
     "data": {
      "text/plain": [
       "'bulbasaur'"
      ]
     },
     "execution_count": 24,
     "metadata": {},
     "output_type": "execute_result"
    }
   ],
   "source": [
    "x = [{1:'bulbasaur'}, {2:'ivysaur'}]\n",
    "x[0][1]\n"
   ]
  },
  {
   "cell_type": "code",
   "execution_count": 27,
   "metadata": {},
   "outputs": [
    {
     "data": {
      "text/plain": [
       "1"
      ]
     },
     "execution_count": 27,
     "metadata": {},
     "output_type": "execute_result"
    }
   ],
   "source": [
    "x = ['bulbasaur', 'ivysaur']\n",
    "y = x.index('bulbasaur') + 1\n",
    "y"
   ]
  }
 ],
 "metadata": {
  "kernelspec": {
   "display_name": "Python 3",
   "language": "python",
   "name": "python3"
  },
  "language_info": {
   "codemirror_mode": {
    "name": "ipython",
    "version": 3
   },
   "file_extension": ".py",
   "mimetype": "text/x-python",
   "name": "python",
   "nbconvert_exporter": "python",
   "pygments_lexer": "ipython3",
   "version": "3.8.3"
  }
 },
 "nbformat": 4,
 "nbformat_minor": 4
}
